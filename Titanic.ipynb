{
 "cells": [
  {
   "cell_type": "code",
   "execution_count": 1,
   "metadata": {},
   "outputs": [],
   "source": [
    "# To support both python 2 and python 3\n",
    "from __future__ import division, print_function, unicode_literals\n",
    "\n",
    "# Common imports\n",
    "import numpy as np\n",
    "import pandas as pd\n",
    "import matplotlib.pyplot as plt\n",
    "\n",
    "# sklearn model validation and preprocessing imports\n",
    "from sklearn.base import BaseEstimator, TransformerMixin\n",
    "from sklearn.preprocessing import Imputer, StandardScaler\n",
    "from sklearn.pipeline import Pipeline, FeatureUnion\n",
    "from future_encoders import OrdinalEncoder, OneHotEncoder\n",
    "from sklearn.metrics import accuracy_score, confusion_matrix\n",
    "from sklearn.model_selection import cross_validate, GridSearchCV, train_test_split, cross_val_score\n",
    "\n",
    "# import models to try \n",
    "from sklearn.linear_model import LogisticRegression\n",
    "from sklearn.svm import SVC\n",
    "from sklearn.neighbors import KNeighborsClassifier\n",
    "from sklearn.tree import DecisionTreeClassifier\n",
    "from sklearn.ensemble import RandomForestClassifier, GradientBoostingClassifier"
   ]
  },
  {
   "cell_type": "code",
   "execution_count": 2,
   "metadata": {},
   "outputs": [],
   "source": [
    "# Classificator's names\n",
    "clfs_name = [\"LogisticRegression\", \"SVC\", \"KNeighbors\", \"DecisionTree\",\n",
    "                \"RandomForest\", \"GradientBoosting\" ]\n",
    "\n",
    "# Data import\n",
    "titanic = pd.read_csv('train.csv')\n",
    "\n",
    "# Drop useless columns and NaN values in the Embarked column\n",
    "titanic.drop(columns = [\"Ticket\",\"Name\",\"Cabin\"], inplace=True)\n",
    "titanic = titanic[titanic[\"Embarked\"].isna()==False]"
   ]
  },
  {
   "cell_type": "code",
   "execution_count": 3,
   "metadata": {},
   "outputs": [],
   "source": [
    "# Create a class to select numerical or categorical columns \n",
    "class DataFrameSelector(BaseEstimator, TransformerMixin):\n",
    "    def __init__(self, attribute_names):\n",
    "        self.attribute_names = attribute_names\n",
    "    def fit(self, X, y=None):\n",
    "        return self\n",
    "    def transform(self, X):\n",
    "        return X[self.attribute_names].values\n",
    "\n",
    "# Numerical features columns names\n",
    "num_features = ['Pclass', 'Age', 'SibSp', 'Parch', 'Fare']\n",
    "\n",
    "# Categorical features names\n",
    "cat_features = ['Sex', 'Embarked']\n",
    "\n",
    "# Pipeline for numerical features \n",
    "num_pipeline = Pipeline([\n",
    "        ('selector', DataFrameSelector(num_features)),\n",
    "        ('imputer', Imputer(strategy=\"median\")),\n",
    "        ('std_scaler', StandardScaler()),\n",
    "    ])\n",
    "\n",
    "# Pipeline for \"Sex\" features \n",
    "sex_pipeline = Pipeline([\n",
    "        ('selector', DataFrameSelector([\"Sex\"])),\n",
    "        ('sex_encoder', OrdinalEncoder()), #OneHotEncoder(sparse=False)\n",
    "    ])\n",
    "\n",
    "# Pipeline for \"Embarked\" features \n",
    "emb_pipeline = Pipeline([\n",
    "        ('selector', DataFrameSelector([\"Embarked\"])),\n",
    "        ('emb_encoder', OrdinalEncoder()), #OneHotEncoder(sparse=False)\n",
    "    ])\n",
    "\n",
    "# Data preparation pipeline\n",
    "data_preparation_pipeline = FeatureUnion(transformer_list=[\n",
    "        (\"num_pipeline\", num_pipeline),\n",
    "        (\"sex_pipeline\", sex_pipeline),\n",
    "        (\"emb_pipeline\", emb_pipeline),\n",
    "    ], n_jobs=1)"
   ]
  },
  {
   "cell_type": "code",
   "execution_count": 4,
   "metadata": {},
   "outputs": [],
   "source": [
    "# Prepared data and labels for the fitting\n",
    "X = data_preparation_pipeline.fit_transform(titanic)\n",
    "y = titanic[\"Survived\"].values\n",
    "\n",
    "# Split data in a train and a validation set\n",
    "X_train, X_val, y_train, y_val = train_test_split(X, y, test_size = .2, random_state=42)"
   ]
  },
  {
   "cell_type": "code",
   "execution_count": 7,
   "metadata": {},
   "outputs": [
    {
     "name": "stdout",
     "output_type": "stream",
     "text": [
      "---------------------------------\n",
      "LogisticRegression :\n",
      "---------------------------------\n",
      "Mean:  0.7889106137504507\n",
      "Std:  0.0402111896962666\n",
      "Validation set result:  0.7865168539325843\n",
      "---------------------------------\n",
      "SVC :\n",
      "---------------------------------\n",
      "Mean:  0.8143023546052083\n",
      "Std:  0.024571673600331943\n",
      "Validation set result:  0.8202247191011236\n",
      "---------------------------------\n",
      "KNeighbors :\n",
      "---------------------------------\n",
      "Mean:  0.8002404526166903\n",
      "Std:  0.026977500641610565\n",
      "Validation set result:  0.7808988764044944\n",
      "---------------------------------\n",
      "DecisionTree :\n",
      "---------------------------------\n",
      "Mean:  0.7947646781484872\n",
      "Std:  0.047455188086328905\n",
      "Validation set result:  0.7359550561797753\n",
      "---------------------------------\n",
      "RandomForest :\n",
      "---------------------------------\n",
      "Mean:  0.8157309260337797\n",
      "Std:  0.03434110372572288\n",
      "Validation set result:  0.7921348314606742\n",
      "---------------------------------\n",
      "GradientBoosting :\n",
      "---------------------------------\n",
      "Mean:  0.8270188867626258\n",
      "Std:  0.028067746666415254\n",
      "Validation set result:  0.8202247191011236\n"
     ]
    }
   ],
   "source": [
    "# Initialization of the classificators I whish to try \n",
    "clfs = []\n",
    "clfs.append(LogisticRegression())\n",
    "clfs.append(SVC())\n",
    "clfs.append(KNeighborsClassifier(n_neighbors=3))\n",
    "clfs.append(DecisionTreeClassifier())\n",
    "clfs.append(RandomForestClassifier())\n",
    "clfs.append(GradientBoostingClassifier()) \n",
    "\n",
    "mean_clfs  = []\n",
    "std_clfs = []\n",
    "validation_score = []\n",
    "\n",
    "# Cicle on the classifier. For each classifier we look for cross validation accuracy score. \n",
    "# We save the accuracy on the validation set as well\n",
    "for name, classifier in zip(clfs_name, clfs):\n",
    "    scores = cross_val_score(classifier, X_train, y_train, cv = 7, scoring=\"accuracy\")\n",
    "    print('---------------------------------')\n",
    "    print(name, ':')\n",
    "    print('---------------------------------')\n",
    "    \n",
    "    mean_clfs.append(scores.mean())\n",
    "    std_clfs.append(scores.std())\n",
    "    \n",
    "    classifier.fit(X_train, y_train)\n",
    "    y_pred = classifier.predict(X_val)\n",
    "    validation_score.append(accuracy_score(y_val,y_pred))\n",
    "    \n",
    "    print('Mean: ', scores.mean())\n",
    "    print('Std: ', scores.std())\n",
    "    print('Validation set result: ',validation_score[-1]) "
   ]
  },
  {
   "cell_type": "code",
   "execution_count": null,
   "metadata": {},
   "outputs": [],
   "source": [
    "# Convert lists into arrays\n",
    "mean_clfs_num = np.asarray(mean_clfs)\n",
    "std_clfs_num = np.asarray(std_clfs)\n",
    "validation_score_num = np.asarray(validation_score)"
   ]
  },
  {
   "cell_type": "code",
   "execution_count": 16,
   "metadata": {},
   "outputs": [
    {
     "data": {
      "image/png": "[encoded data removed]",
      "text/plain": [
       "<matplotlib.figure.Figure at 0x114b40358>"
      ]
     },
     "metadata": {},
     "output_type": "display_data"
    },
    {
     "name": "stdout",
     "output_type": "stream",
     "text": [
      "The classificator which performs better in average is:  GradientBoosting\n"
     ]
    }
   ],
   "source": [
    "# Visualization of the model scores\n",
    "fig, ax1 = plt.subplots(figsize=(10, 6))\n",
    "fig.canvas.set_window_title('Results for each model')\n",
    "plt.subplots_adjust(left=0.075, right=0.95, top=0.9, bottom=0.25)\n",
    "plt.errorbar(np.arange(1,mean_clfs_num.size+1),mean_clfs_num,yerr=2*std_clfs_num,fmt='o',\n",
    "            elinewidth=1, capsize=3, capthick=1)\n",
    "\n",
    "plt.plot(np.arange(1,mean_clfs_num.size+1),validation_score_num,'rx')\n",
    "plt.ylim((0,1))\n",
    "plt.xticks(np.arange(1,mean_clfs_num.size+1), clfs_name, rotation=45)\n",
    "ax1.set_xlabel('Classificators', labelpad=15, fontsize=15)\n",
    "ax1.set_ylabel('Mean score', labelpad=15, fontsize=15)\n",
    "\n",
    "plt.show()\n",
    "\n",
    "print(\"The classificator which performs better in average is: \", clfs_name[mean_clfs_num.argmax()])"
   ]
  },
  {
   "cell_type": "code",
   "execution_count": 19,
   "metadata": {},
   "outputs": [
    {
     "name": "stdout",
     "output_type": "stream",
     "text": [
      "Results: \n",
      "{'loss': 'exponential', 'max_depth': 5, 'n_estimators': 91}\n",
      "Accuracy score on the train set:  0.9535864978902954\n",
      "Accuracy score on the validation set:  0.8146067415730337\n"
     ]
    }
   ],
   "source": [
    "# Let us try to increment the performance of the GradientBoostingClassifier by tuning its hyperparameters\n",
    "\n",
    "clf = GradientBoostingClassifier()\n",
    "\n",
    "param_grid = [\n",
    "    {'loss' : ['deviance', 'exponential'], 'n_estimators': list(range(90,110)),'max_depth': list(range(2,15))},\n",
    "]\n",
    "\n",
    "grid_search = GridSearchCV(clf, param_grid, cv=7, scoring='accuracy')\n",
    "\n",
    "grid_search.fit(X_train, y_train)"
   ]
  },
  {
   "cell_type": "code",
   "execution_count": 20,
   "metadata": {},
   "outputs": [
    {
     "name": "stdout",
     "output_type": "stream",
     "text": [
      "Results: \n",
      "{'loss': 'exponential', 'max_depth': 5, 'n_estimators': 91}\n",
      "Accuracy score on the train set:  0.9535864978902954\n",
      "Accuracy score on the validation set:  0.8146067415730337\n"
     ]
    }
   ],
   "source": [
    "print(\"Results: \")\n",
    "print(grid_search.best_params_)\n",
    "\n",
    "clf_best = grid_search.best_estimator_\n",
    "clf_best.fit(X_train, y_train)\n",
    "\n",
    "y_train_pred = clf_best.predict(X_train)\n",
    "accuracy_on_train = accuracy_score(y_train, y_train_pred)\n",
    "\n",
    "y_val_pred = clf_best.predict(X_val)\n",
    "accuracy_on_val = accuracy_score(y_val, y_val_pred)\n",
    "\n",
    "print('Accuracy score on the train set: ', accuracy_on_train)\n",
    "print('Accuracy score on the validation set: ', accuracy_on_val)\n"
   ]
  },
  {
   "cell_type": "code",
   "execution_count": 23,
   "metadata": {},
   "outputs": [
    {
     "name": "stdout",
     "output_type": "stream",
     "text": [
      "Output scritto\n"
     ]
    }
   ],
   "source": [
    "give_solution = True\n",
    "\n",
    "if give_solution:\n",
    "\n",
    "    titanic_test = pd.read_csv('test.csv')\n",
    "\n",
    "    X_test = data_preparation_pipeline.transform(titanic_test)\n",
    "\n",
    "    y_predicted = grid_search.best_estimator_.predict(X_test).reshape(-1,1)\n",
    "    pass_id = titanic_test[\"PassengerId\"].values.reshape(-1,1)\n",
    "\n",
    "    out = np.c_[pass_id, y_predicted]\n",
    "    output = pd.DataFrame(out, columns = [\"PassengerId\", \"Survived\"])\n",
    "\n",
    "    output.to_csv(path_or_buf=\"./Solution.csv\", index=False)\n",
    "    print(\"Output scritto\")"
   ]
  },
  {
   "cell_type": "code",
   "execution_count": null,
   "metadata": {},
   "outputs": [],
   "source": []
  }
 ],
 "metadata": {
  "kernelspec": {
   "display_name": "Python 3",
   "language": "python",
   "name": "python3"
  },
  "language_info": {
   "codemirror_mode": {
    "name": "ipython",
    "version": 3
   },
   "file_extension": ".py",
   "mimetype": "text/x-python",
   "name": "python",
   "nbconvert_exporter": "python",
   "pygments_lexer": "ipython3",
   "version": "3.6.5"
  }
 },
 "nbformat": 4,
 "nbformat_minor": 2
}
